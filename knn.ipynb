{
 "cells": [
  {
   "cell_type": "markdown",
   "metadata": {},
   "source": [
    "### Imports\n",
    "\n",
    "Import the nessessary packages. "
   ]
  },
  {
   "cell_type": "code",
   "execution_count": 73,
   "metadata": {
    "_cell_guid": "b1076dfc-b9ad-4769-8c92-a6c4dae69d19",
    "_uuid": "8f2839f25d086af736a60e9eeb907d3b93b6e0e5"
   },
   "outputs": [],
   "source": [
    "import numpy as np\n",
    "import pandas as pd\n",
    "import matplotlib.pyplot as plt\n",
    "import re\n",
    "import random\n",
    "import warnings\n",
    "\n",
    "from sklearn.feature_extraction.text import TfidfVectorizer\n",
    "from sklearn.naive_bayes import MultinomialNB\n",
    "from sklearn.neighbors import KNeighborsClassifier\n",
    "from sklearn import preprocessing\n"
   ]
  },
  {
   "cell_type": "markdown",
   "metadata": {},
   "source": [
    "### Dataset\n",
    "\n",
    "Load dataset using pandas. Since the data is initially split into training and validation set, we concatinate them for now to provide flexibility in out code. We will split them again later on in the code, but then we can choose for ourselves how much of the data to use for training and validation. \n",
    "\n",
    "Since we want the target value to numerical values, as this is needed by the model. Print the first lines of the data, for the user to see the format. "
   ]
  },
  {
   "cell_type": "code",
   "execution_count": 74,
   "metadata": {
    "_cell_guid": "79c7e3d0-c299-4dcb-8224-4455121ee9b0",
    "_uuid": "d629ff2d2480ee46fbb7e2d37f6b5fab8052498a"
   },
   "outputs": [
    {
     "data": {
      "text/html": [
       "<div>\n",
       "<style scoped>\n",
       "    .dataframe tbody tr th:only-of-type {\n",
       "        vertical-align: middle;\n",
       "    }\n",
       "\n",
       "    .dataframe tbody tr th {\n",
       "        vertical-align: top;\n",
       "    }\n",
       "\n",
       "    .dataframe thead th {\n",
       "        text-align: right;\n",
       "    }\n",
       "</style>\n",
       "<table border=\"1\" class=\"dataframe\">\n",
       "  <thead>\n",
       "    <tr style=\"text-align: right;\">\n",
       "      <th></th>\n",
       "      <th></th>\n",
       "      <th>Title</th>\n",
       "      <th>Body</th>\n",
       "      <th>Tags</th>\n",
       "      <th>Y</th>\n",
       "    </tr>\n",
       "  </thead>\n",
       "  <tbody>\n",
       "    <tr>\n",
       "      <th rowspan=\"5\" valign=\"top\">Id</th>\n",
       "      <th>0</th>\n",
       "      <td>Java: Repeat Task Every Random Seconds</td>\n",
       "      <td>&lt;p&gt;I'm already familiar with repeating tasks e...</td>\n",
       "      <td>&lt;java&gt;&lt;repeat&gt;</td>\n",
       "      <td>0</td>\n",
       "    </tr>\n",
       "    <tr>\n",
       "      <th>1</th>\n",
       "      <td>Why are Java Optionals immutable?</td>\n",
       "      <td>&lt;p&gt;I'd like to understand why Java 8 Optionals...</td>\n",
       "      <td>&lt;java&gt;&lt;optional&gt;</td>\n",
       "      <td>2</td>\n",
       "    </tr>\n",
       "    <tr>\n",
       "      <th>2</th>\n",
       "      <td>Text Overlay Image with Darkened Opacity React...</td>\n",
       "      <td>&lt;p&gt;I am attempting to overlay a title over an ...</td>\n",
       "      <td>&lt;javascript&gt;&lt;image&gt;&lt;overlay&gt;&lt;react-native&gt;&lt;opa...</td>\n",
       "      <td>2</td>\n",
       "    </tr>\n",
       "    <tr>\n",
       "      <th>3</th>\n",
       "      <td>Why ternary operator in swift is so picky?</td>\n",
       "      <td>&lt;p&gt;The question is very simple, but I just cou...</td>\n",
       "      <td>&lt;swift&gt;&lt;operators&gt;&lt;whitespace&gt;&lt;ternary-operato...</td>\n",
       "      <td>2</td>\n",
       "    </tr>\n",
       "    <tr>\n",
       "      <th>4</th>\n",
       "      <td>hide/show fab with scale animation</td>\n",
       "      <td>&lt;p&gt;I'm using custom floatingactionmenu. I need...</td>\n",
       "      <td>&lt;android&gt;&lt;material-design&gt;&lt;floating-action-but...</td>\n",
       "      <td>2</td>\n",
       "    </tr>\n",
       "  </tbody>\n",
       "</table>\n",
       "</div>"
      ],
      "text/plain": [
       "                                                  Title  \\\n",
       "Id 0             Java: Repeat Task Every Random Seconds   \n",
       "   1                  Why are Java Optionals immutable?   \n",
       "   2  Text Overlay Image with Darkened Opacity React...   \n",
       "   3         Why ternary operator in swift is so picky?   \n",
       "   4                 hide/show fab with scale animation   \n",
       "\n",
       "                                                   Body  \\\n",
       "Id 0  <p>I'm already familiar with repeating tasks e...   \n",
       "   1  <p>I'd like to understand why Java 8 Optionals...   \n",
       "   2  <p>I am attempting to overlay a title over an ...   \n",
       "   3  <p>The question is very simple, but I just cou...   \n",
       "   4  <p>I'm using custom floatingactionmenu. I need...   \n",
       "\n",
       "                                                   Tags  Y  \n",
       "Id 0                                     <java><repeat>  0  \n",
       "   1                                   <java><optional>  2  \n",
       "   2  <javascript><image><overlay><react-native><opa...  2  \n",
       "   3  <swift><operators><whitespace><ternary-operato...  2  \n",
       "   4  <android><material-design><floating-action-but...  2  "
      ]
     },
     "execution_count": 74,
     "metadata": {},
     "output_type": "execute_result"
    }
   ],
   "source": [
    "train = pd.read_csv(\"../input/60k-stack-overflow-questions-with-quality-rate/train.csv\")\n",
    "valid = pd.read_csv(\"../input/60k-stack-overflow-questions-with-quality-rate/valid.csv\")\n",
    "data = pd.concat([train,valid], keys=[\"Id\", \"Title\", \"Body\", \"Tags\", \"CreationDate\", \"Y\"])\n",
    "\n",
    "data=data.drop(['Id', 'CreationDate'], axis=1)\n",
    "data['Y']=data['Y'].map({'LQ_CLOSE':0, 'LQ_EDIT':1, 'HQ':2})\n",
    "data.head()\n"
   ]
  },
  {
   "cell_type": "markdown",
   "metadata": {},
   "source": [
    "### Clean data\n",
    "\n",
    "Use regex to clean the data, to increase the accuracy of the model. Apply this to the body and title."
   ]
  },
  {
   "cell_type": "code",
   "execution_count": 75,
   "metadata": {},
   "outputs": [],
   "source": [
    "def clean_data(text):\n",
    "    text = text.lower()\n",
    "    text = re.sub(r'[^(a-zA-Z0-9)\\s\\*\\+-\\/\\(\\)=&|]','', text)\n",
    "    return text\n",
    "data['Body'] = data['Body'].apply(clean_data)\n",
    "data['Title'] = data['Title'].apply(clean_data)"
   ]
  },
  {
   "cell_type": "markdown",
   "metadata": {},
   "source": [
    "### Distribute data\n",
    "\n",
    "Choose what data to use for training. The default value for now is to use 75% for training, and 25% for validation. This can be changed by changing the values for how much of the data-variable to be placed in train and valid. If Tags and Title should be included for this method, the variables can be changed to \"True\"."
   ]
  },
  {
   "cell_type": "code",
   "execution_count": 76,
   "metadata": {},
   "outputs": [],
   "source": [
    "def distribute_data(data=data):  \n",
    "    \n",
    "    Tags = False\n",
    "    Title = False\n",
    "\n",
    "    # Training Sets\n",
    "    train = data[:45000]\n",
    "    trainX = train['Body']\n",
    "    \n",
    "    if (Tags):\n",
    "        trainX += train['Tags']\n",
    "    if (Title):\n",
    "        trainX += train['Title']\n",
    "    trainY = train['Y'].values\n",
    "\n",
    "    # Validation Sets\n",
    "    valid = data[45000:]\n",
    "    validX = valid['Body']\n",
    "    \n",
    "    if (Tags):\n",
    "        validX += valid['Tags']\n",
    "    if (Title):\n",
    "        validX += valid['Title']\n",
    "    \n",
    "    validY = valid['Y'].values\n",
    "    return trainX, trainY, validX, validY\n",
    "\n",
    "\n",
    "trainX, trainY, validX, validY = distribute_data()\n"
   ]
  },
  {
   "cell_type": "markdown",
   "metadata": {},
   "source": [
    "### Vectorize data\n",
    "\n",
    "Vectorize the data such that it can be interperated by the machine learning model."
   ]
  },
  {
   "cell_type": "code",
   "execution_count": 77,
   "metadata": {},
   "outputs": [],
   "source": [
    "vectorizer = TfidfVectorizer()\n",
    "trainX = vectorizer.fit_transform(trainX.apply(lambda x: np.str_(x)))\n",
    "validX = vectorizer.transform(validX)\n"
   ]
  },
  {
   "cell_type": "markdown",
   "metadata": {},
   "source": [
    "### Run\n",
    "\n",
    "Chose the value for k. Train the model, score the validation set and print the result."
   ]
  },
  {
   "cell_type": "code",
   "execution_count": 78,
   "metadata": {},
   "outputs": [
    {
     "name": "stdout",
     "output_type": "stream",
     "text": [
      "Accuracy: 0.6734\n"
     ]
    }
   ],
   "source": [
    "knn = KNeighborsClassifier(n_neighbors = 250)\n",
    "\n",
    "knn.fit(trainX, trainY)\n",
    "score = knn.score(validX, validY)\n",
    "print('Accuracy: {}'.format(score))\n"
   ]
  }
 ],
 "metadata": {
  "kernelspec": {
   "display_name": "Python 3",
   "language": "python",
   "name": "python3"
  },
  "language_info": {
   "codemirror_mode": {
    "name": "ipython",
    "version": 3
   },
   "file_extension": ".py",
   "mimetype": "text/x-python",
   "name": "python",
   "nbconvert_exporter": "python",
   "pygments_lexer": "ipython3",
   "version": "3.7.3"
  }
 },
 "nbformat": 4,
 "nbformat_minor": 4
}
