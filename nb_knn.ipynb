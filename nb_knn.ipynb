{
 "cells": [
  {
   "cell_type": "markdown",
   "metadata": {
    "papermill": {
     "duration": 0.026052,
     "end_time": "2020-11-16T11:48:29.657752",
     "exception": false,
     "start_time": "2020-11-16T11:48:29.631700",
     "status": "completed"
    },
    "tags": []
   },
   "source": [
    "# Classification of Stack Overflow questions\n",
    "\n",
    "This notebook presents different applications of Machine Learning methods in attempt to classify Stack Overflow-questions into three categories: HQ, LQ_EDIT and LQ_CLOSE. \n",
    "\n",
    "The approaches used are Naive Bayes (NB) on a vectorized input of body and body + title and a combination of NB and k-Nearest Neighbors (kNN) as a means of trying to improve the predictions done by NB. "
   ]
  },
  {
   "cell_type": "markdown",
   "metadata": {
    "papermill": {
     "duration": 0.024773,
     "end_time": "2020-11-16T11:48:29.708539",
     "exception": false,
     "start_time": "2020-11-16T11:48:29.683766",
     "status": "completed"
    },
    "tags": []
   },
   "source": [
    "### Imports\n",
    "This project uses numpy to handle matrices and vectors, pandas to handle dataframes from the dataset, pyplot to plot results, re to handle regex-strings used to clean the data.\n",
    "Imports from Scikit-learn are TFidVectorizer used to extract features from text, MultinomialNB which is a naive bayes-approach with more than 2 possible outputs or predictions (unlike BernoulliNB which only handles binary predictions) and KNeighborsClassifier which is the kNN-model used in the project."
   ]
  },
  {
   "cell_type": "code",
   "execution_count": 1,
   "metadata": {
    "execution": {
     "iopub.execute_input": "2020-11-16T11:48:29.766321Z",
     "iopub.status.busy": "2020-11-16T11:48:29.765483Z",
     "iopub.status.idle": "2020-11-16T11:48:31.124485Z",
     "shell.execute_reply": "2020-11-16T11:48:31.123619Z"
    },
    "papermill": {
     "duration": 1.391859,
     "end_time": "2020-11-16T11:48:31.124635",
     "exception": false,
     "start_time": "2020-11-16T11:48:29.732776",
     "status": "completed"
    },
    "tags": []
   },
   "outputs": [],
   "source": [
    "import numpy as np\n",
    "import pandas as pd\n",
    "import matplotlib.pyplot as plt\n",
    "import re\n",
    "import random\n",
    "import warnings\n",
    "\n",
    "from sklearn.feature_extraction.text import TfidfVectorizer\n",
    "from sklearn.naive_bayes import MultinomialNB\n",
    "from sklearn.neighbors import KNeighborsClassifier"
   ]
  },
  {
   "cell_type": "markdown",
   "metadata": {
    "papermill": {
     "duration": 0.024038,
     "end_time": "2020-11-16T11:48:31.173399",
     "exception": false,
     "start_time": "2020-11-16T11:48:31.149361",
     "status": "completed"
    },
    "tags": []
   },
   "source": [
    "### Dataset\n",
    "The dataset used is [60k Stack Overflow Questions with Quality Rating](http://www.kaggle.com/imoore/60k-stack-overflow-questions-with-quality-rate). This dataset comes split into a set of training data and validation data, in sizes of respectively 45.000 entries and 15.000 entries. The validation-set is kept separately to maintain a common ground for comparing models and results. \n",
    "\n",
    "The three possible classifications, LQ_CLOSE, LQ_EDIT and HQ are mapped to integeres 0-2, and the columns with id and creationdate are dropped as these are not relevant for the task at hand. \n",
    "\n",
    "A concatenation of Title and Body is created separately for use when comparing the accuracy between NB-models with additional information. \n",
    "\n",
    "As seen in the target value distribution, there is an equal amount of each classification in the dataset, meaning that a random guess-approach will result in about 33.3% accuracy. "
   ]
  },
  {
   "cell_type": "code",
   "execution_count": 2,
   "metadata": {
    "execution": {
     "iopub.execute_input": "2020-11-16T11:48:31.238383Z",
     "iopub.status.busy": "2020-11-16T11:48:31.237527Z",
     "iopub.status.idle": "2020-11-16T11:48:32.515602Z",
     "shell.execute_reply": "2020-11-16T11:48:32.514577Z"
    },
    "papermill": {
     "duration": 1.318096,
     "end_time": "2020-11-16T11:48:32.515753",
     "exception": false,
     "start_time": "2020-11-16T11:48:31.197657",
     "status": "completed"
    },
    "tags": []
   },
   "outputs": [
    {
     "data": {
      "text/html": [
       "<div>\n",
       "<style scoped>\n",
       "    .dataframe tbody tr th:only-of-type {\n",
       "        vertical-align: middle;\n",
       "    }\n",
       "\n",
       "    .dataframe tbody tr th {\n",
       "        vertical-align: top;\n",
       "    }\n",
       "\n",
       "    .dataframe thead th {\n",
       "        text-align: right;\n",
       "    }\n",
       "</style>\n",
       "<table border=\"1\" class=\"dataframe\">\n",
       "  <thead>\n",
       "    <tr style=\"text-align: right;\">\n",
       "      <th></th>\n",
       "      <th>Title</th>\n",
       "      <th>Body</th>\n",
       "      <th>Tags</th>\n",
       "      <th>Y</th>\n",
       "    </tr>\n",
       "  </thead>\n",
       "  <tbody>\n",
       "    <tr>\n",
       "      <th>0</th>\n",
       "      <td>Java: Repeat Task Every Random Seconds</td>\n",
       "      <td>&lt;p&gt;I'm already familiar with repeating tasks e...</td>\n",
       "      <td>&lt;java&gt;&lt;repeat&gt;</td>\n",
       "      <td>0</td>\n",
       "    </tr>\n",
       "    <tr>\n",
       "      <th>1</th>\n",
       "      <td>Why are Java Optionals immutable?</td>\n",
       "      <td>&lt;p&gt;I'd like to understand why Java 8 Optionals...</td>\n",
       "      <td>&lt;java&gt;&lt;optional&gt;</td>\n",
       "      <td>2</td>\n",
       "    </tr>\n",
       "    <tr>\n",
       "      <th>2</th>\n",
       "      <td>Text Overlay Image with Darkened Opacity React...</td>\n",
       "      <td>&lt;p&gt;I am attempting to overlay a title over an ...</td>\n",
       "      <td>&lt;javascript&gt;&lt;image&gt;&lt;overlay&gt;&lt;react-native&gt;&lt;opa...</td>\n",
       "      <td>2</td>\n",
       "    </tr>\n",
       "    <tr>\n",
       "      <th>3</th>\n",
       "      <td>Why ternary operator in swift is so picky?</td>\n",
       "      <td>&lt;p&gt;The question is very simple, but I just cou...</td>\n",
       "      <td>&lt;swift&gt;&lt;operators&gt;&lt;whitespace&gt;&lt;ternary-operato...</td>\n",
       "      <td>2</td>\n",
       "    </tr>\n",
       "    <tr>\n",
       "      <th>4</th>\n",
       "      <td>hide/show fab with scale animation</td>\n",
       "      <td>&lt;p&gt;I'm using custom floatingactionmenu. I need...</td>\n",
       "      <td>&lt;android&gt;&lt;material-design&gt;&lt;floating-action-but...</td>\n",
       "      <td>2</td>\n",
       "    </tr>\n",
       "  </tbody>\n",
       "</table>\n",
       "</div>"
      ],
      "text/plain": [
       "                                               Title  \\\n",
       "0             Java: Repeat Task Every Random Seconds   \n",
       "1                  Why are Java Optionals immutable?   \n",
       "2  Text Overlay Image with Darkened Opacity React...   \n",
       "3         Why ternary operator in swift is so picky?   \n",
       "4                 hide/show fab with scale animation   \n",
       "\n",
       "                                                Body  \\\n",
       "0  <p>I'm already familiar with repeating tasks e...   \n",
       "1  <p>I'd like to understand why Java 8 Optionals...   \n",
       "2  <p>I am attempting to overlay a title over an ...   \n",
       "3  <p>The question is very simple, but I just cou...   \n",
       "4  <p>I'm using custom floatingactionmenu. I need...   \n",
       "\n",
       "                                                Tags  Y  \n",
       "0                                     <java><repeat>  0  \n",
       "1                                   <java><optional>  2  \n",
       "2  <javascript><image><overlay><react-native><opa...  2  \n",
       "3  <swift><operators><whitespace><ternary-operato...  2  \n",
       "4  <android><material-design><floating-action-but...  2  "
      ]
     },
     "execution_count": 2,
     "metadata": {},
     "output_type": "execute_result"
    }
   ],
   "source": [
    "train = pd.read_csv(\"/kaggle/input/60k-stack-overflow-questions-with-quality-rate/train.csv\")\n",
    "valid = pd.read_csv(\"/kaggle/input/60k-stack-overflow-questions-with-quality-rate/valid.csv\")\n",
    "\n",
    "data=train.drop(['Id', 'CreationDate'], axis=1)\n",
    "valid = valid.drop(['Id', 'CreationDate'], axis=1)\n",
    "data['Y']=train['Y'].map({'LQ_CLOSE':0, 'LQ_EDIT':1, 'HQ':2})\n",
    "valid['Y']=valid['Y'].map({'LQ_CLOSE':0, 'LQ_EDIT':1, 'HQ':2})\n",
    "data.head()"
   ]
  },
  {
   "cell_type": "code",
   "execution_count": 3,
   "metadata": {
    "execution": {
     "iopub.execute_input": "2020-11-16T11:48:32.584573Z",
     "iopub.status.busy": "2020-11-16T11:48:32.583673Z",
     "iopub.status.idle": "2020-11-16T11:48:32.757658Z",
     "shell.execute_reply": "2020-11-16T11:48:32.756894Z"
    },
    "papermill": {
     "duration": 0.211703,
     "end_time": "2020-11-16T11:48:32.757793",
     "exception": false,
     "start_time": "2020-11-16T11:48:32.546090",
     "status": "completed"
    },
    "tags": []
   },
   "outputs": [],
   "source": [
    "# Merge title and body to assess whether or not including Title gives better performance\n",
    "title_body_data = data.copy()\n",
    "title_body_data['text'] = title_body_data['Title'] + ' ' + title_body_data['Body']\n",
    "title_body_data = title_body_data.drop(['Title', 'Body', 'Tags'], axis=1)\n",
    "title_body_valid = valid.copy()\n",
    "title_body_valid['text'] = title_body_valid['Title'] + ' ' + title_body_valid['Body']\n",
    "title_body_valid = title_body_valid.drop(['Title', 'Body', 'Tags'], axis=1)\n"
   ]
  },
  {
   "cell_type": "code",
   "execution_count": 4,
   "metadata": {
    "execution": {
     "iopub.execute_input": "2020-11-16T11:48:32.826954Z",
     "iopub.status.busy": "2020-11-16T11:48:32.822331Z",
     "iopub.status.idle": "2020-11-16T11:48:33.265788Z",
     "shell.execute_reply": "2020-11-16T11:48:33.264916Z"
    },
    "papermill": {
     "duration": 0.482953,
     "end_time": "2020-11-16T11:48:33.265928",
     "exception": false,
     "start_time": "2020-11-16T11:48:32.782975",
     "status": "completed"
    },
    "tags": []
   },
   "outputs": [
    {
     "data": {
      "image/png": "[encoded data removed]",
      "text/plain": [
       "<Figure size 1152x648 with 1 Axes>"
      ]
     },
     "metadata": {},
     "output_type": "display_data"
    }
   ],
   "source": [
    "# Create target value distribution-diagram\n",
    "labels = ['High quality', 'Low Quality Question - Close', 'Low Quality Question - Edit']\n",
    "values = [len(data[data['Y'] == 2]), len(data[data['Y'] == 0]), len(data[data['Y'] == 1])]\n",
    "valid_values = [len(valid[valid['Y'] == 2]), len(valid[valid['Y'] == 0]), len(valid[valid['Y'] == 1])]\n",
    "x = np.arange(len(labels))  # the label locations\n",
    "width = 0.35  # the width of the bars\n",
    "\n",
    "fig, ax = plt.subplots(figsize=(16,9))\n",
    "fig.patch.set_facecolor('white')\n",
    "rects1 = ax.bar(x - width/2, values, width, label='Training data')\n",
    "rects2 = ax.bar(x + width/2, valid_values, width, label='Validation data')\n",
    "\n",
    "# Add some text for labels, title and custom x-axis tick labels, etc.\n",
    "ax.set_ylabel('Data size')\n",
    "ax.set_title('Target value distribution')\n",
    "ax.set_xticks(x)\n",
    "ax.set_xticklabels(labels)\n",
    "ax.legend()\n",
    "\n",
    "\n",
    "def autolabel(rects):\n",
    "    \"\"\"Attach a text label above each bar in *rects*, displaying its height.\"\"\"\n",
    "    for rect in rects:\n",
    "        height = rect.get_height()\n",
    "        ax.annotate('{}'.format(height),\n",
    "                    xy=(rect.get_x() + rect.get_width() / 2, height),\n",
    "                    xytext=(0, 3),  # 3 points vertical offset\n",
    "                    textcoords=\"offset points\",\n",
    "                    ha='center', va='bottom')\n",
    "\n",
    "\n",
    "autolabel(rects1)\n",
    "autolabel(rects2)\n",
    "\n",
    "fig.tight_layout()\n",
    "\n",
    "plt.show()\n",
    "fig.savefig('target_value.pdf')"
   ]
  },
  {
   "cell_type": "markdown",
   "metadata": {
    "papermill": {
     "duration": 0.026569,
     "end_time": "2020-11-16T11:48:33.319493",
     "exception": false,
     "start_time": "2020-11-16T11:48:33.292924",
     "status": "completed"
    },
    "tags": []
   },
   "source": [
    "The question body contains a lot of HTML-tags which do not bring any context into whether a question is good or not, so a cleaning-function is applied to remove all HTML-tags with the content inside of it. Special characters are changed to whitespace as to keep the text clean and separated for use in the vectorizer. \n",
    "\n",
    "After some trial and error, it was found that removing the HTML-tags gave worse results than just removing the special characters < and >, so the cleaning-function had to be changed. \n",
    "\n",
    "The column containing tags had a format of &lt;Tag1>&lt;Tag2>, which meant that cleaning the data ended with replacing '><' with a whitespace and removing < and >."
   ]
  },
  {
   "cell_type": "code",
   "execution_count": 5,
   "metadata": {
    "execution": {
     "iopub.execute_input": "2020-11-16T11:48:33.380799Z",
     "iopub.status.busy": "2020-11-16T11:48:33.379870Z",
     "iopub.status.idle": "2020-11-16T11:48:33.383478Z",
     "shell.execute_reply": "2020-11-16T11:48:33.382688Z"
    },
    "papermill": {
     "duration": 0.036776,
     "end_time": "2020-11-16T11:48:33.383614",
     "exception": false,
     "start_time": "2020-11-16T11:48:33.346838",
     "status": "completed"
    },
    "tags": []
   },
   "outputs": [],
   "source": [
    "# Regex-strings to remove HTML-tags and other symbols not associated with text or code.\n",
    "def clean_data(text):\n",
    "    text = text.lower()\n",
    "    # text = re.sub(r'<[^>]*>',' ', text)\n",
    "    text = re.sub(r'[^(a-zA-Z0-9)\\s]','', text)\n",
    "    return text"
   ]
  },
  {
   "cell_type": "code",
   "execution_count": 6,
   "metadata": {
    "execution": {
     "iopub.execute_input": "2020-11-16T11:48:33.444542Z",
     "iopub.status.busy": "2020-11-16T11:48:33.443759Z",
     "iopub.status.idle": "2020-11-16T11:48:33.447022Z",
     "shell.execute_reply": "2020-11-16T11:48:33.446362Z"
    },
    "papermill": {
     "duration": 0.036492,
     "end_time": "2020-11-16T11:48:33.447165",
     "exception": false,
     "start_time": "2020-11-16T11:48:33.410673",
     "status": "completed"
    },
    "tags": []
   },
   "outputs": [],
   "source": [
    "# Remove <, > and ><\n",
    "def clean_tags(text):\n",
    "    text = text.lower()\n",
    "    text = re.sub(r'><',' ', text)\n",
    "    text = re.sub(r'[<>]','', text)\n",
    "    return text"
   ]
  },
  {
   "cell_type": "markdown",
   "metadata": {
    "papermill": {
     "duration": 0.026626,
     "end_time": "2020-11-16T11:48:33.500864",
     "exception": false,
     "start_time": "2020-11-16T11:48:33.474238",
     "status": "completed"
    },
    "tags": []
   },
   "source": [
    "## Functions\n",
    "Before diving into the models themselves, there is a need to create some functions that can be applied across multiple models to keep the results consistent and enable a more functional and clean approach in general. \n",
    "\n",
    "### K-fold cross-validation\n",
    "The k_fold_datasets-function is used to create training and validation datasets from the original training dataset, and returns train_x and valid_x containing the column specified with parameter key, otherwise the returned train_x and valid_x contains the parameters contained in keys. A clean-function is applied if clean=True, which is meant to remove special characters that might skew the results from the vectorizer. \n",
    "\n",
    "The amount of parameters passed is a result of keeping the function as general as possible to handle both input with text and input with predicted classes."
   ]
  },
  {
   "cell_type": "code",
   "execution_count": 7,
   "metadata": {
    "execution": {
     "iopub.execute_input": "2020-11-16T11:48:33.568949Z",
     "iopub.status.busy": "2020-11-16T11:48:33.568143Z",
     "iopub.status.idle": "2020-11-16T11:48:33.571818Z",
     "shell.execute_reply": "2020-11-16T11:48:33.571005Z"
    },
    "papermill": {
     "duration": 0.04417,
     "end_time": "2020-11-16T11:48:33.571950",
     "exception": false,
     "start_time": "2020-11-16T11:48:33.527780",
     "status": "completed"
    },
    "tags": []
   },
   "outputs": [],
   "source": [
    "# Function to return training and validation sets based on k-fold cross validation\n",
    "# n defines the iteration number (n>0 and n<=k)\n",
    "# key defines which column to classify based on\n",
    "# keys defines the different columns present in the data\n",
    "# clean_fn defines the function to clean the input\n",
    "def k_fold_datasets(n,data,k, key, keys, clean_fn, clean=True):\n",
    "    assert n>0\n",
    "    size = len(data)\n",
    "    # Make sure that no single questions are left outside of dataset\n",
    "    assert size//k == size/k\n",
    "    lower = int(size/k)*(n-1)\n",
    "    upper = int(size/k)*n\n",
    "    # Training Sets\n",
    "    train = pd.concat([data[:lower],data[upper:]], keys=keys)\n",
    "    if clean:\n",
    "        trainX = train[key].apply(clean_fn)\n",
    "    else:\n",
    "        trainX = train.copy().drop(['Y'], axis=1)\n",
    "    trainY = train['Y'].values\n",
    "\n",
    "    # Validation Sets\n",
    "    valid = data[lower:upper]\n",
    "    if clean:\n",
    "        validX = valid[key].apply(clean_fn)\n",
    "    else:\n",
    "        validX = valid.copy().drop(['Y'], axis=1)\n",
    "    validY = valid['Y'].values\n",
    "    \n",
    "    return trainX, trainY, validX, validY"
   ]
  },
  {
   "cell_type": "markdown",
   "metadata": {
    "papermill": {
     "duration": 0.027067,
     "end_time": "2020-11-16T11:48:33.626639",
     "exception": false,
     "start_time": "2020-11-16T11:48:33.599572",
     "status": "completed"
    },
    "tags": []
   },
   "source": [
    "### Vectorization\n",
    "The vectorizer used to create a representation of the text in the dataset is a [Term Frequency Inverse Document Frequency (TF-IDF) vectorizer](https://scikit-learn.org/stable/modules/generated/sklearn.feature_extraction.text.TfidfVectorizer.html). The theory behind this vectorizer is further explained in the report for the project."
   ]
  },
  {
   "cell_type": "code",
   "execution_count": 8,
   "metadata": {
    "execution": {
     "iopub.execute_input": "2020-11-16T11:48:33.689945Z",
     "iopub.status.busy": "2020-11-16T11:48:33.689054Z",
     "iopub.status.idle": "2020-11-16T11:48:33.692664Z",
     "shell.execute_reply": "2020-11-16T11:48:33.691990Z"
    },
    "papermill": {
     "duration": 0.038856,
     "end_time": "2020-11-16T11:48:33.692796",
     "exception": false,
     "start_time": "2020-11-16T11:48:33.653940",
     "status": "completed"
    },
    "tags": []
   },
   "outputs": [],
   "source": [
    "# Key and Keys are used when creating concats of different columns\n",
    "vectorizer = TfidfVectorizer()\n",
    "def vectorized_data(data, n, k, key, keys, clean_fn = clean_data):\n",
    "    trainX, trainY, validX, validY = k_fold_datasets(n, data, k, key, keys, clean_fn)\n",
    "    \n",
    "    trainX = vectorizer.fit_transform(trainX)\n",
    "    validX = vectorizer.transform(validX)\n",
    "    return trainX, trainY, validX, validY\n"
   ]
  },
  {
   "cell_type": "markdown",
   "metadata": {
    "papermill": {
     "duration": 0.027243,
     "end_time": "2020-11-16T11:48:33.748741",
     "exception": false,
     "start_time": "2020-11-16T11:48:33.721498",
     "status": "completed"
    },
    "tags": []
   },
   "source": [
    "### Averages and validaton\n",
    "When tuning hyperparameters the average accuracy is calculated from the accuracy per iteration with k-fold cross-validation. \n",
    "\n",
    "The function validated_results_nb uses the provided validation set to calculate the overall score with optimal alpha"
   ]
  },
  {
   "cell_type": "code",
   "execution_count": 9,
   "metadata": {
    "execution": {
     "iopub.execute_input": "2020-11-16T11:48:33.813139Z",
     "iopub.status.busy": "2020-11-16T11:48:33.812295Z",
     "iopub.status.idle": "2020-11-16T11:48:33.815734Z",
     "shell.execute_reply": "2020-11-16T11:48:33.815103Z"
    },
    "papermill": {
     "duration": 0.039518,
     "end_time": "2020-11-16T11:48:33.815875",
     "exception": false,
     "start_time": "2020-11-16T11:48:33.776357",
     "status": "completed"
    },
    "tags": []
   },
   "outputs": [],
   "source": [
    "def average_nb(nb_model, k, dataset, key=\"Body\", keys=[\"Title\", \"Body\", \"Tags\", \"Y\"]):\n",
    "    average = 0\n",
    "    for i in range(1,k+1):\n",
    "        # Create k-fold training and testing sets\n",
    "        trainX, trainY, validX, validY = vectorized_data(dataset,i, k, key, keys)\n",
    "        nb_model.fit(trainX, trainY)\n",
    "        score = nb_model.score(validX, validY)\n",
    "        average+=score\n",
    "    average = average / k\n",
    "    return average"
   ]
  },
  {
   "cell_type": "code",
   "execution_count": 10,
   "metadata": {
    "execution": {
     "iopub.execute_input": "2020-11-16T11:48:33.880218Z",
     "iopub.status.busy": "2020-11-16T11:48:33.879382Z",
     "iopub.status.idle": "2020-11-16T11:48:33.883423Z",
     "shell.execute_reply": "2020-11-16T11:48:33.882771Z"
    },
    "papermill": {
     "duration": 0.039987,
     "end_time": "2020-11-16T11:48:33.883564",
     "exception": false,
     "start_time": "2020-11-16T11:48:33.843577",
     "status": "completed"
    },
    "tags": []
   },
   "outputs": [],
   "source": [
    "def validated_results_nb(train, valid, alpha, key):\n",
    "    trainX = vectorizer.fit_transform(train[key].apply(clean_data))\n",
    "    trainY = train['Y'].values\n",
    "    validX = vectorizer.transform(valid[key].apply(clean_data))\n",
    "    validY = valid['Y'].values\n",
    "    nb = MultinomialNB(alpha=alpha)\n",
    "    nb.fit(trainX, trainY)\n",
    "    score = nb.score(validX, validY)\n",
    "    return score"
   ]
  },
  {
   "cell_type": "markdown",
   "metadata": {
    "papermill": {
     "duration": 0.028399,
     "end_time": "2020-11-16T11:48:33.940717",
     "exception": false,
     "start_time": "2020-11-16T11:48:33.912318",
     "status": "completed"
    },
    "tags": []
   },
   "source": [
    "## Implementation\n",
    "As to ensure that results are consistent, the training data is randomized before every full run. This means that within one run the data is the same, but the data set might be randomized between full runs with hyperparameter-tuning, meaning that the optimal value for alpha might vary by a few decimals. \n",
    "\n",
    "A list of possible alpha-values is used with grid-search to determine the optimal alpha with a margin of 0.05.\n",
    "\n",
    "The amount of iterations with k-fold is set to 6."
   ]
  },
  {
   "cell_type": "code",
   "execution_count": 11,
   "metadata": {
    "execution": {
     "iopub.execute_input": "2020-11-16T11:48:34.005782Z",
     "iopub.status.busy": "2020-11-16T11:48:34.004480Z",
     "iopub.status.idle": "2020-11-16T11:48:34.019464Z",
     "shell.execute_reply": "2020-11-16T11:48:34.018566Z"
    },
    "papermill": {
     "duration": 0.051123,
     "end_time": "2020-11-16T11:48:34.019616",
     "exception": false,
     "start_time": "2020-11-16T11:48:33.968493",
     "status": "completed"
    },
    "tags": []
   },
   "outputs": [],
   "source": [
    "# Randomize data\n",
    "data = data.sample(frac=1)\n",
    "alphas = [x/20 for x in range(1,21)]\n",
    "k_fold = 6"
   ]
  },
  {
   "cell_type": "markdown",
   "metadata": {
    "papermill": {
     "duration": 0.027526,
     "end_time": "2020-11-16T11:48:34.075366",
     "exception": false,
     "start_time": "2020-11-16T11:48:34.047840",
     "status": "completed"
    },
    "tags": []
   },
   "source": [
    "### Question body, Naive Bayes\n",
    "Iterate over the alpha-values provided and calculate the average score. Save the highest average score and corresponding alpha for use in validation. "
   ]
  },
  {
   "cell_type": "code",
   "execution_count": 12,
   "metadata": {
    "execution": {
     "iopub.execute_input": "2020-11-16T11:48:34.141743Z",
     "iopub.status.busy": "2020-11-16T11:48:34.140867Z",
     "iopub.status.idle": "2020-11-16T12:12:48.270856Z",
     "shell.execute_reply": "2020-11-16T12:12:48.271701Z"
    },
    "papermill": {
     "duration": 1454.168015,
     "end_time": "2020-11-16T12:12:48.271963",
     "exception": false,
     "start_time": "2020-11-16T11:48:34.103948",
     "status": "completed"
    },
    "tags": []
   },
   "outputs": [
    {
     "name": "stdout",
     "output_type": "stream",
     "text": [
      "a=0.05: 0.786\n",
      "a=0.10: 0.787\n",
      "a=0.15: 0.787\n",
      "a=0.20: 0.786\n",
      "a=0.25: 0.786\n",
      "a=0.30: 0.785\n",
      "a=0.35: 0.784\n",
      "a=0.40: 0.784\n",
      "a=0.45: 0.783\n",
      "a=0.50: 0.782\n",
      "a=0.55: 0.781\n",
      "a=0.60: 0.780\n",
      "a=0.65: 0.779\n",
      "a=0.70: 0.778\n",
      "a=0.75: 0.777\n",
      "a=0.80: 0.777\n",
      "a=0.85: 0.777\n",
      "a=0.90: 0.776\n",
      "a=0.95: 0.775\n",
      "a=1.00: 0.775\n",
      "Best average: 0.787 \n",
      " Best alpha: 0.10\n"
     ]
    }
   ],
   "source": [
    "# Test hyperparameters of NB with only body as predictor\n",
    "best_average_body = 0\n",
    "best_alpha_body = -1\n",
    "for a in alphas:\n",
    "    nb = MultinomialNB(alpha=a)\n",
    "    average = average_nb(nb, k_fold, data)\n",
    "    print(\"a=%.2f: %.3f\" % (a, average))\n",
    "    if average>best_average_body:\n",
    "        best_average_body = average\n",
    "        best_alpha_body = a\n",
    "print(\"Best average: %.3f \\n Best alpha: %.2f\" % (best_average_body, best_alpha_body))"
   ]
  },
  {
   "cell_type": "markdown",
   "metadata": {
    "papermill": {
     "duration": 0.035309,
     "end_time": "2020-11-16T12:12:48.343107",
     "exception": false,
     "start_time": "2020-11-16T12:12:48.307798",
     "status": "completed"
    },
    "tags": []
   },
   "source": [
    "### Question Title and Body, Naive Bayes\n",
    "Same approach as the previous one but with title appended to the question body. "
   ]
  },
  {
   "cell_type": "code",
   "execution_count": 13,
   "metadata": {
    "execution": {
     "iopub.execute_input": "2020-11-16T12:12:48.425426Z",
     "iopub.status.busy": "2020-11-16T12:12:48.424247Z",
     "iopub.status.idle": "2020-11-16T12:38:17.399040Z",
     "shell.execute_reply": "2020-11-16T12:38:17.399995Z"
    },
    "papermill": {
     "duration": 1529.021551,
     "end_time": "2020-11-16T12:38:17.400584",
     "exception": false,
     "start_time": "2020-11-16T12:12:48.379033",
     "status": "completed"
    },
    "tags": []
   },
   "outputs": [
    {
     "name": "stdout",
     "output_type": "stream",
     "text": [
      "a=0.05: 0.778\n",
      "a=0.10: 0.777\n",
      "a=0.15: 0.774\n",
      "a=0.20: 0.770\n",
      "a=0.25: 0.767\n",
      "a=0.30: 0.765\n",
      "a=0.35: 0.763\n",
      "a=0.40: 0.761\n",
      "a=0.45: 0.759\n",
      "a=0.50: 0.757\n",
      "a=0.55: 0.755\n",
      "a=0.60: 0.754\n",
      "a=0.65: 0.752\n",
      "a=0.70: 0.750\n",
      "a=0.75: 0.749\n",
      "a=0.80: 0.748\n",
      "a=0.85: 0.747\n",
      "a=0.90: 0.745\n",
      "a=0.95: 0.744\n",
      "a=1.00: 0.743\n",
      "Best average: 0.778 \n",
      " Best alpha: 0.05\n"
     ]
    }
   ],
   "source": [
    "# Test hyperparameters of NB with body and title as predictor\n",
    "best_average = 0\n",
    "best_alpha = -1\n",
    "for a in alphas:\n",
    "    nb = MultinomialNB(alpha=a)\n",
    "    average = average_nb(nb, k_fold, title_body_data, key='text', keys=['text', 'Y'])\n",
    "    print(\"a=%.2f: %.3f\" % (a, average))\n",
    "    if average>best_average:\n",
    "        best_average = average\n",
    "        best_alpha = a\n",
    "print(\"Best average: %.3f \\n Best alpha: %.2f\" % (best_average, best_alpha))"
   ]
  },
  {
   "cell_type": "markdown",
   "metadata": {
    "papermill": {
     "duration": 0.043842,
     "end_time": "2020-11-16T12:38:17.489340",
     "exception": false,
     "start_time": "2020-11-16T12:38:17.445498",
     "status": "completed"
    },
    "tags": []
   },
   "source": [
    "### Validation, Naive Bayes\n",
    "The two optimal alphas found in the previous two steps are used to train two Naive Bayes-models on the full training set and validated with the provided validation set as to have the same grounds for comparing different models. "
   ]
  },
  {
   "cell_type": "code",
   "execution_count": 14,
   "metadata": {
    "execution": {
     "iopub.execute_input": "2020-11-16T12:38:17.641059Z",
     "iopub.status.busy": "2020-11-16T12:38:17.587689Z",
     "iopub.status.idle": "2020-11-16T12:38:50.071548Z",
     "shell.execute_reply": "2020-11-16T12:38:50.072304Z"
    },
    "papermill": {
     "duration": 32.53798,
     "end_time": "2020-11-16T12:38:50.072487",
     "exception": false,
     "start_time": "2020-11-16T12:38:17.534507",
     "status": "completed"
    },
    "tags": []
   },
   "outputs": [
    {
     "name": "stdout",
     "output_type": "stream",
     "text": [
      "Score on validation set with body as predictor and alpha=0.10: 0.790\n",
      "Score on validation set with body and title as predictor and alpha=0.05: 0.790\n"
     ]
    }
   ],
   "source": [
    "print(\"Score on validation set with body as predictor and alpha=%.2f: %.3f\" \n",
    "      % (best_alpha_body, validated_results_nb(data, valid, best_alpha_body, 'Body')))\n",
    "print(\"Score on validation set with body and title as predictor and alpha=%.2f: %.3f\" \n",
    "      % (best_alpha, validated_results_nb(title_body_data, title_body_valid, best_alpha, 'text')))"
   ]
  },
  {
   "cell_type": "markdown",
   "metadata": {
    "papermill": {
     "duration": 0.044378,
     "end_time": "2020-11-16T12:38:50.161706",
     "exception": false,
     "start_time": "2020-11-16T12:38:50.117328",
     "status": "completed"
    },
    "tags": []
   },
   "source": [
    "### Question Title, Body and Tags separately, Naive Bayes and kNN\n",
    "The best alpha for prediction based on question body is reused to train a Naive Bayes-model, trained on a dataset with a size defined by the parameter 'split', and then used to predict the rest of the dataset and provided validation set. "
   ]
  },
  {
   "cell_type": "code",
   "execution_count": 15,
   "metadata": {
    "execution": {
     "iopub.execute_input": "2020-11-16T12:38:50.269877Z",
     "iopub.status.busy": "2020-11-16T12:38:50.268691Z",
     "iopub.status.idle": "2020-11-16T12:38:50.272020Z",
     "shell.execute_reply": "2020-11-16T12:38:50.272587Z"
    },
    "papermill": {
     "duration": 0.066001,
     "end_time": "2020-11-16T12:38:50.272772",
     "exception": false,
     "start_time": "2020-11-16T12:38:50.206771",
     "status": "completed"
    },
    "tags": []
   },
   "outputs": [],
   "source": [
    "nb = MultinomialNB(alpha=best_alpha_body)\n",
    "\n",
    "def predict_nb(split):\n",
    "    cols = [\"Title\", \"Body\", 'Tags']\n",
    "    # Corresponding cleaning functions to each column\n",
    "    clean_fns = [clean_data, clean_data, clean_tags]\n",
    "    predicted_data = data[:45000//split].copy()\n",
    "    for i in range(len(cols)):\n",
    "        trainX, trainY, predictX, predictY = vectorized_data(data, 1, k=split, key=cols[i], keys=[\"Title\", \"Body\", 'Tags', \"Y\"], clean_fn = clean_fns[i])\n",
    "        # Swap predict and train to get smaller than n/2 dataset for NB\n",
    "        nb.fit(trainX, trainY)\n",
    "        print(\"%s: %.3f\" % (cols[i], nb.score(predictX, predictY)))\n",
    "        predicted_data[cols[i]] = nb.predict(predictX)\n",
    "        predicted_data['Y'] = predictY\n",
    "    return predicted_data\n"
   ]
  },
  {
   "cell_type": "markdown",
   "metadata": {
    "papermill": {
     "duration": 0.044929,
     "end_time": "2020-11-16T12:38:50.363370",
     "exception": false,
     "start_time": "2020-11-16T12:38:50.318441",
     "status": "completed"
    },
    "tags": []
   },
   "source": [
    "Function to measure average performance across k-fold cross-validation, used in hyperparameter-tuning. "
   ]
  },
  {
   "cell_type": "code",
   "execution_count": 16,
   "metadata": {
    "execution": {
     "iopub.execute_input": "2020-11-16T12:38:50.463818Z",
     "iopub.status.busy": "2020-11-16T12:38:50.462840Z",
     "iopub.status.idle": "2020-11-16T12:38:50.466050Z",
     "shell.execute_reply": "2020-11-16T12:38:50.466616Z"
    },
    "papermill": {
     "duration": 0.058037,
     "end_time": "2020-11-16T12:38:50.466780",
     "exception": false,
     "start_time": "2020-11-16T12:38:50.408743",
     "status": "completed"
    },
    "tags": []
   },
   "outputs": [],
   "source": [
    "def average_knn(knn_model, k, dataset, key=\"Body\", keys=[\"Title\", \"Body\", \"Tags\", \"Y\"]):\n",
    "    average = 0\n",
    "    for i in range(1,k+1):\n",
    "        # Create k-fold training and testing sets\n",
    "        trainX, trainY, validX, validY = k_fold_datasets(i, dataset, k, key, keys, clean_fn=None, clean=False)\n",
    "        knn_model.fit(trainX, trainY)\n",
    "        score = knn_model.score(validX, validY)\n",
    "        average+=score\n",
    "    average = average / k\n",
    "    return average"
   ]
  },
  {
   "cell_type": "markdown",
   "metadata": {
    "papermill": {
     "duration": 0.045297,
     "end_time": "2020-11-16T12:38:50.558992",
     "exception": false,
     "start_time": "2020-11-16T12:38:50.513695",
     "status": "completed"
    },
    "tags": []
   },
   "source": [
    "The split is set to 3, which gives NB 30 000 entries for training and then make prediction on the remaining 15 000 entries.\n",
    "\n",
    "The format of the prediction done by NB is shown below when running."
   ]
  },
  {
   "cell_type": "code",
   "execution_count": 17,
   "metadata": {
    "execution": {
     "iopub.execute_input": "2020-11-16T12:38:50.674286Z",
     "iopub.status.busy": "2020-11-16T12:38:50.672662Z",
     "iopub.status.idle": "2020-11-16T12:39:04.060341Z",
     "shell.execute_reply": "2020-11-16T12:39:04.060896Z"
    },
    "papermill": {
     "duration": 13.456452,
     "end_time": "2020-11-16T12:39:04.061078",
     "exception": false,
     "start_time": "2020-11-16T12:38:50.604626",
     "status": "completed"
    },
    "tags": []
   },
   "outputs": [
    {
     "name": "stdout",
     "output_type": "stream",
     "text": [
      "Predicted data accuracy:\n",
      "Title: 0.601\n",
      "Body: 0.785\n",
      "Tags: 0.582\n"
     ]
    },
    {
     "data": {
      "text/html": [
       "<div>\n",
       "<style scoped>\n",
       "    .dataframe tbody tr th:only-of-type {\n",
       "        vertical-align: middle;\n",
       "    }\n",
       "\n",
       "    .dataframe tbody tr th {\n",
       "        vertical-align: top;\n",
       "    }\n",
       "\n",
       "    .dataframe thead th {\n",
       "        text-align: right;\n",
       "    }\n",
       "</style>\n",
       "<table border=\"1\" class=\"dataframe\">\n",
       "  <thead>\n",
       "    <tr style=\"text-align: right;\">\n",
       "      <th></th>\n",
       "      <th>Title</th>\n",
       "      <th>Body</th>\n",
       "      <th>Tags</th>\n",
       "      <th>Y</th>\n",
       "    </tr>\n",
       "  </thead>\n",
       "  <tbody>\n",
       "    <tr>\n",
       "      <th>32994</th>\n",
       "      <td>2</td>\n",
       "      <td>2</td>\n",
       "      <td>2</td>\n",
       "      <td>2</td>\n",
       "    </tr>\n",
       "    <tr>\n",
       "      <th>35552</th>\n",
       "      <td>1</td>\n",
       "      <td>1</td>\n",
       "      <td>0</td>\n",
       "      <td>1</td>\n",
       "    </tr>\n",
       "    <tr>\n",
       "      <th>1497</th>\n",
       "      <td>0</td>\n",
       "      <td>0</td>\n",
       "      <td>1</td>\n",
       "      <td>1</td>\n",
       "    </tr>\n",
       "    <tr>\n",
       "      <th>954</th>\n",
       "      <td>2</td>\n",
       "      <td>2</td>\n",
       "      <td>0</td>\n",
       "      <td>2</td>\n",
       "    </tr>\n",
       "    <tr>\n",
       "      <th>36894</th>\n",
       "      <td>1</td>\n",
       "      <td>1</td>\n",
       "      <td>2</td>\n",
       "      <td>1</td>\n",
       "    </tr>\n",
       "  </tbody>\n",
       "</table>\n",
       "</div>"
      ],
      "text/plain": [
       "       Title  Body  Tags  Y\n",
       "32994      2     2     2  2\n",
       "35552      1     1     0  1\n",
       "1497       0     0     1  1\n",
       "954        2     2     0  2\n",
       "36894      1     1     2  1"
      ]
     },
     "execution_count": 17,
     "metadata": {},
     "output_type": "execute_result"
    }
   ],
   "source": [
    "split=3\n",
    "print(\"Predicted data accuracy:\")\n",
    "predicted_data = predict_nb(split)\n",
    "predicted_data.head()"
   ]
  },
  {
   "cell_type": "markdown",
   "metadata": {
    "papermill": {
     "duration": 0.047464,
     "end_time": "2020-11-16T12:39:04.156796",
     "exception": false,
     "start_time": "2020-11-16T12:39:04.109332",
     "status": "completed"
    },
    "tags": []
   },
   "source": [
    "The variable k_list contain the different values for k, and is a combination of arbitrarily chosen numbers and functions based on the size of the dataset. \n",
    "\n",
    "All possible k-values in k_list is iterated over and the average score from k-fold cross-validation is calculated. Best k is saved for use in validation. "
   ]
  },
  {
   "cell_type": "code",
   "execution_count": 18,
   "metadata": {
    "execution": {
     "iopub.execute_input": "2020-11-16T12:39:04.265954Z",
     "iopub.status.busy": "2020-11-16T12:39:04.264873Z",
     "iopub.status.idle": "2020-11-16T12:39:46.037730Z",
     "shell.execute_reply": "2020-11-16T12:39:46.038413Z"
    },
    "papermill": {
     "duration": 41.834038,
     "end_time": "2020-11-16T12:39:46.038597",
     "exception": false,
     "start_time": "2020-11-16T12:39:04.204559",
     "status": "completed"
    },
    "tags": []
   },
   "outputs": [
    {
     "name": "stdout",
     "output_type": "stream",
     "text": [
      "[1, 10, 100, 9, 111, 6250, 12500]\n",
      "kNN hyperparameters accuracy:\n",
      "k=1: 0.711\n",
      "k=10: 0.785\n",
      "k=100: 0.795\n",
      "k=9: 0.787\n",
      "k=111: 0.795\n",
      "k=6250: 0.614\n",
      "k=12500: 0.339\n",
      "Best average: 0.795 \n",
      " Best k: 111\n"
     ]
    }
   ],
   "source": [
    "pred_size = int(len(predicted_data)*(k_fold-1)/k_fold)\n",
    "k_list = [1, 10, 100, int(np.log(pred_size)), \n",
    "          int(np.sqrt(pred_size)), int(pred_size/2), \n",
    "          pred_size]\n",
    "print(k_list)\n",
    "\n",
    "print(\"kNN hyperparameters accuracy:\")\n",
    "best_average_knn = 0\n",
    "best_k_knn = -1\n",
    "for k_param in k_list:\n",
    "    knn = KNeighborsClassifier(n_neighbors=k_param, p=2)\n",
    "    average = average_knn(knn, k_fold, predicted_data)\n",
    "    print(\"k=%d: %.3f\" % (k_param, average))\n",
    "    if average>best_average_knn:\n",
    "        best_average_knn = average\n",
    "        best_k_knn = k_param\n",
    "print(\"Best average: %.3f \\n Best k: %d\" % (best_average_knn, best_k_knn))\n"
   ]
  },
  {
   "cell_type": "markdown",
   "metadata": {
    "papermill": {
     "duration": 0.050474,
     "end_time": "2020-11-16T12:39:46.139984",
     "exception": false,
     "start_time": "2020-11-16T12:39:46.089510",
     "status": "completed"
    },
    "tags": []
   },
   "source": [
    "### Validation, NB and kNN\n",
    "The final code-block is a bit cluttered, so a step-by-step description of the purpose is provided:\n",
    "1. Initialization of NB and kNN with optimal hyperparameters from earlier.\n",
    "2. Split the data in partitions of 30 000 entries for training NB, 15 000 for training kNN based on predictions from NB and provided validation set of 15 000 entries, also for predicting with NB and validating kNN. \n",
    "3. Iterate over Title, Body and Tags:\n",
    "    3.1. Vectorize input data in given column from all three partitions so that NB can handle it. \n",
    "    3.2. Train NB on first partition of 30 000 entries on given column\n",
    "    3.3. Predict training data for kNN and validation data for kNN on given column\n",
    "4. Train kNN on training data with predictions from NB.\n",
    "5. Calculate accuracy on validation set with predictions from NB.    "
   ]
  },
  {
   "cell_type": "code",
   "execution_count": 19,
   "metadata": {
    "execution": {
     "iopub.execute_input": "2020-11-16T12:39:46.257027Z",
     "iopub.status.busy": "2020-11-16T12:39:46.251800Z",
     "iopub.status.idle": "2020-11-16T12:40:04.779215Z",
     "shell.execute_reply": "2020-11-16T12:40:04.779800Z"
    },
    "papermill": {
     "duration": 18.588904,
     "end_time": "2020-11-16T12:40:04.779960",
     "exception": false,
     "start_time": "2020-11-16T12:39:46.191056",
     "status": "completed"
    },
    "tags": []
   },
   "outputs": [
    {
     "name": "stdout",
     "output_type": "stream",
     "text": [
      "Title: 0.605\n",
      "Body: 0.783\n",
      "Tags: 0.583\n"
     ]
    },
    {
     "name": "stderr",
     "output_type": "stream",
     "text": [
      "/opt/conda/lib/python3.7/site-packages/ipykernel_launcher.py:23: DataConversionWarning: A column-vector y was passed when a 1d array was expected. Please change the shape of y to (n_samples, ), for example using ravel().\n"
     ]
    },
    {
     "name": "stdout",
     "output_type": "stream",
     "text": [
      "0.7934666666666667\n"
     ]
    }
   ],
   "source": [
    "# Validation of knn-model\n",
    "cols = [\"Title\", \"Body\", 'Tags']\n",
    "nb = MultinomialNB(alpha=best_alpha_body)\n",
    "knn = KNeighborsClassifier(n_neighbors=best_k_knn, p=2)\n",
    "# Corresponding cleaning functions to each column\n",
    "clean_fns = [clean_data, clean_data, clean_tags]\n",
    "training_data = data[15000:].copy()\n",
    "predicted_data = data[:15000].copy()\n",
    "predicted_valid = valid.copy()\n",
    "for i in range(len(cols)):\n",
    "    trainX = vectorizer.fit_transform(training_data[cols[i]].apply(clean_fns[i]))\n",
    "    trainY = training_data['Y'].values\n",
    "    predictX = vectorizer.transform(predicted_data[cols[i]].apply(clean_fns[i]))\n",
    "    predictY = predicted_data['Y'].values\n",
    "    validX = vectorizer.transform(predicted_valid[cols[i]].apply(clean_fns[i]))\n",
    "    validY = predicted_valid['Y'].values\n",
    "    nb.fit(trainX, trainY)\n",
    "    predicted_data[cols[i]] = nb.predict(predictX)\n",
    "    predicted_data['Y'] = predictY\n",
    "    predicted_valid[cols[i]] = nb.predict(validX)\n",
    "    predicted_valid['Y'] = validY\n",
    "    print(\"%s: %.3f\" % (cols[i], nb.score(validX, validY)))\n",
    "knn.fit(predicted_data.drop(['Y'], axis=1),predicted_data.drop(['Body', 'Title', 'Tags'], axis=1))\n",
    "score = knn.score(predicted_valid.drop(['Y'], axis=1), predicted_valid.drop(['Body', 'Title', 'Tags'], axis=1))\n",
    "print(score)"
   ]
  }
 ],
 "metadata": {
  "kernelspec": {
   "display_name": "Python 3",
   "language": "python",
   "name": "python3"
  },
  "language_info": {
   "codemirror_mode": {
    "name": "ipython",
    "version": 3
   },
   "file_extension": ".py",
   "mimetype": "text/x-python",
   "name": "python",
   "nbconvert_exporter": "python",
   "pygments_lexer": "ipython3",
   "version": "3.7.6"
  },
  "papermill": {
   "duration": 3100.449956,
   "end_time": "2020-11-16T12:40:04.942443",
   "environment_variables": {},
   "exception": null,
   "input_path": "__notebook__.ipynb",
   "output_path": "__notebook__.ipynb",
   "parameters": {},
   "start_time": "2020-11-16T11:48:24.492487",
   "version": "2.1.0"
  }
 },
 "nbformat": 4,
 "nbformat_minor": 4
}
