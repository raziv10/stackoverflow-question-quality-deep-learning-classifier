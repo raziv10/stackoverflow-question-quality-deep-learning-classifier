{
 "cells": [
  {
   "cell_type": "code",
   "execution_count": 248,
   "metadata": {
    "_cell_guid": "b1076dfc-b9ad-4769-8c92-a6c4dae69d19",
    "_uuid": "8f2839f25d086af736a60e9eeb907d3b93b6e0e5",
    "papermill": {
     "duration": 6.565617,
     "end_time": "2020-11-26T16:14:43.765201",
     "exception": false,
     "start_time": "2020-11-26T16:14:37.199584",
     "status": "completed"
    },
    "tags": []
   },
   "outputs": [],
   "source": [
    "import numpy as np\n",
    "import pandas as pd\n",
    "import tensorflow as tf\n",
    "import matplotlib.pyplot as plt\n",
    "import re\n",
    "import random\n",
    "import warnings\n",
    "import tensorflow as tf\n",
    "\n",
    "from tensorflow import keras as ks\n",
    "from tensorflow.keras import layers\n",
    "from keras.models import load_model\n",
    "from keras import callbacks "
   ]
  },
  {
   "cell_type": "markdown",
   "metadata": {
    "papermill": {
     "duration": 0.01087,
     "end_time": "2020-11-26T16:14:43.787817",
     "exception": false,
     "start_time": "2020-11-26T16:14:43.776947",
     "status": "completed"
    },
    "tags": []
   },
   "source": [
    "# Preprocessing data\n",
    "\n",
    "We start by loading the dataset and clean both training and validation data with regex replacements."
   ]
  },
  {
   "cell_type": "code",
   "execution_count": 249,
   "metadata": {
    "_cell_guid": "79c7e3d0-c299-4dcb-8224-4455121ee9b0",
    "_uuid": "d629ff2d2480ee46fbb7e2d37f6b5fab8052498a",
    "papermill": {
     "duration": 4.181796,
     "end_time": "2020-11-26T16:14:47.980864",
     "exception": false,
     "start_time": "2020-11-26T16:14:43.799068",
     "status": "completed"
    },
    "tags": []
   },
   "outputs": [],
   "source": [
    "def clean_data(text):\n",
    "    text = text.lower()\n",
    "    text = re.sub(r'[^(a-zA-Z0-9)\\s\\*\\+-\\/\\(\\)=&|]','', text)\n",
    "    return text\n",
    "\n",
    "train = pd.read_csv(\"data/train.csv\")\n",
    "valid = pd.read_csv(\"data/valid.csv\")\n",
    "\n",
    "train['Body'] = train['Body'].astype('str')\n",
    "valid['Body'] = valid['Body'].astype('str')\n",
    "train['Body'] = train['Body'].apply(clean_data)\n",
    "valid['Body'] = valid['Body'].apply(clean_data)\n"
   ]
  },
  {
   "cell_type": "markdown",
   "metadata": {
    "papermill": {
     "duration": 0.01115,
     "end_time": "2020-11-26T16:14:48.003767",
     "exception": false,
     "start_time": "2020-11-26T16:14:47.992617",
     "status": "completed"
    },
    "tags": []
   },
   "source": [
    "# Tokenize data\n",
    "The Tokenizer is initialized and fitted on the training data. The cleaned columns are then converted to integer vectors, before being padded with zeroes or shortened to an uniform length of 75 words."
   ]
  },
  {
   "cell_type": "code",
   "execution_count": null,
   "metadata": {},
   "outputs": [],
   "source": []
  },
  {
   "cell_type": "code",
   "execution_count": 298,
   "metadata": {
    "papermill": {
     "duration": 17.83207,
     "end_time": "2020-11-26T16:15:05.846931",
     "exception": false,
     "start_time": "2020-11-26T16:14:48.014861",
     "status": "completed"
    },
    "tags": []
   },
   "outputs": [],
   "source": [
    "maxlength = 150\n",
    "\n",
    "tokenizer = tf.keras.preprocessing.text.Tokenizer(num_words=10000, filters='!\"#$%&()*+,-./:;=?@[\\\\]^_`{|}~\\t\\n\\r', lower=True, split=\" \")\n",
    "tokenizer.fit_on_texts(train['Body'])\n",
    "\n",
    "train_x = ks.preprocessing.sequence.pad_sequences(tokenizer.texts_to_sequences(train['Body']), maxlen=maxlength)\n",
    "valid_x = ks.preprocessing.sequence.pad_sequences(tokenizer.texts_to_sequences(valid['Body']), maxlen=maxlength)"
   ]
  },
  {
   "cell_type": "markdown",
   "metadata": {
    "papermill": {
     "duration": 0.011237,
     "end_time": "2020-11-26T16:15:05.869760",
     "exception": false,
     "start_time": "2020-11-26T16:15:05.858523",
     "status": "completed"
    },
    "tags": []
   },
   "source": [
    "# One-hot encode labels\n",
    "The label columns are then converted from classes to to integers, before being encoded as a one-hot matrix representation."
   ]
  },
  {
   "cell_type": "code",
   "execution_count": 299,
   "metadata": {},
   "outputs": [
    {
     "data": {
      "text/plain": [
       "array([   0,    0,    0,    0,    0,    0,    0,    0,    0,    0,    0,\n",
       "          0,    0,    0,    0,    0,    0,    0,    0,    0,    0,    0,\n",
       "          0,    0,    0,    0,    0,    0,    0,    0,    0,    0,    0,\n",
       "          0,    0,    0,    0,    0,    0,    0,    0,    0,    0,    0,\n",
       "          0,    0,    0,    0,    0,    0,    0,    0,    0,    0,    0,\n",
       "          0,    0,    0,    0,    0,    0,    0,    0,    0,    0,    0,\n",
       "          0,    0,    0,    0,    0,    0,    0,    0,    0,    0,    0,\n",
       "          0,    0,    0,    0,    0,    0,    0,    0,    0,    0,    0,\n",
       "          0,    0,    0,    0,    0,    0,    0,    0,    0,    0,    0,\n",
       "          0,    0,    0,    0,    0,    0,    0,    0,  184,   46,  627,\n",
       "          2,   93,    3,  738, 1587, 1524,   30,  226,  594,  592,  138,\n",
       "         48,   92,    5,   64,   51, 1528, 1044, 1278, 1844,   27, 2179,\n",
       "        769, 1102, 4105, 3144,   89,  450,  138, 2475,    5,    4,  317,\n",
       "         74,   75,  109,    3,   49,   11,    4], dtype=int32)"
      ]
     },
     "execution_count": 299,
     "metadata": {},
     "output_type": "execute_result"
    }
   ],
   "source": [
    "train_x[4]"
   ]
  },
  {
   "cell_type": "code",
   "execution_count": 200,
   "metadata": {
    "papermill": {
     "duration": 0.041548,
     "end_time": "2020-11-26T16:15:05.922786",
     "exception": false,
     "start_time": "2020-11-26T16:15:05.881238",
     "status": "completed"
    },
    "tags": []
   },
   "outputs": [],
   "source": [
    "train_y = train['Y'].map({'LQ_CLOSE':0, 'LQ_EDIT':1, 'HQ':2})\n",
    "valid_y = valid['Y'].map({'LQ_CLOSE':0, 'LQ_EDIT':1, 'HQ':2})\n",
    "\n",
    "train_y = ks.utils.to_categorical(train_y, num_classes=3)\n",
    "valid_y = ks.utils.to_categorical(valid_y, num_classes=3)"
   ]
  },
  {
   "cell_type": "markdown",
   "metadata": {
    "papermill": {
     "duration": 0.011279,
     "end_time": "2020-11-26T16:15:05.945776",
     "exception": false,
     "start_time": "2020-11-26T16:15:05.934497",
     "status": "completed"
    },
    "tags": []
   },
   "source": [
    "# Count word occurences\n",
    "Print number of word occurences in order to identify an appropriate input dimension."
   ]
  },
  {
   "cell_type": "code",
   "execution_count": 252,
   "metadata": {
    "papermill": {
     "duration": 0.175923,
     "end_time": "2020-11-26T16:15:06.133165",
     "exception": false,
     "start_time": "2020-11-26T16:15:05.957242",
     "status": "completed"
    },
    "tags": []
   },
   "outputs": [],
   "source": [
    "sortedwordindex = sorted(tokenizer.word_counts.items(), key=lambda x: x[1], reverse=True)\n",
    "##print(sortedwordindex)"
   ]
  },
  {
   "cell_type": "markdown",
   "metadata": {
    "papermill": {
     "duration": 0.011561,
     "end_time": "2020-11-26T16:15:06.156794",
     "exception": false,
     "start_time": "2020-11-26T16:15:06.145233",
     "status": "completed"
    },
    "tags": []
   },
   "source": [
    "# Defining the model\n",
    "Define a Keras Sequential model. The first layer is a word embedding layer that creates vectors between similar or associated words. Two layers of LSTM with half the dimensionality of the embedding layer is then applied before adding a final softmax activation layer with three possible outputs. The model is then compiled with an SGD-optimizer, using categorical crossentropy as loss function, and recording the accuracy as a metric."
   ]
  },
  {
   "cell_type": "code",
   "execution_count": 253,
   "metadata": {
    "papermill": {
     "duration": 4.374355,
     "end_time": "2020-11-26T16:15:10.543108",
     "exception": false,
     "start_time": "2020-11-26T16:15:06.168753",
     "status": "completed"
    },
    "tags": []
   },
   "outputs": [
    {
     "name": "stdout",
     "output_type": "stream",
     "text": [
      "Model: \"sequential_2\"\n",
      "_________________________________________________________________\n",
      " Layer (type)                Output Shape              Param #   \n",
      "=================================================================\n",
      " embedding_2 (Embedding)     (None, 150, 128)          1280000   \n",
      "                                                                 \n",
      " lstm_4 (LSTM)               (None, 150, 64)           49408     \n",
      "                                                                 \n",
      " lstm_5 (LSTM)               (None, 64)                33024     \n",
      "                                                                 \n",
      " dense_2 (Dense)             (None, 3)                 195       \n",
      "                                                                 \n",
      "=================================================================\n",
      "Total params: 1,362,627\n",
      "Trainable params: 1,362,627\n",
      "Non-trainable params: 0\n",
      "_________________________________________________________________\n"
     ]
    }
   ],
   "source": [
    "model = ks.Sequential()\n",
    "model.add(layers.Embedding(input_length=maxlength, input_dim=10000, output_dim=128))    \n",
    "model.add(layers.LSTM(64, return_sequences=True))\n",
    "model.add(layers.LSTM(64))\n",
    "model.add(layers.Dense(3, activation=\"softmax\"))\n",
    "model.compile(optimizer=ks.optimizers.SGD(learning_rate=(0.55)), loss=ks.losses.CategoricalCrossentropy(), metrics=['accuracy'])\n",
    "model.summary()"
   ]
  },
  {
   "cell_type": "markdown",
   "metadata": {
    "papermill": {
     "duration": 0.012208,
     "end_time": "2020-11-26T16:15:10.568403",
     "exception": false,
     "start_time": "2020-11-26T16:15:10.556195",
     "status": "completed"
    },
    "tags": []
   },
   "source": [
    "# Model training\n",
    "The model is trained with the training data, recording the performance on, but not training on, the validation set after each training epoch. The model is using an EarlyStopping callback in order to terminate when the model has stopped improving (more precisely when the validation loss starts increasing for at least 5 epochs). The model is then tested on the validation set and final loss and accuracy is printed.\n"
   ]
  },
  {
   "cell_type": "code",
   "execution_count": 254,
   "metadata": {
    "papermill": {
     "duration": 135.317124,
     "end_time": "2020-11-26T16:17:25.898055",
     "exception": false,
     "start_time": "2020-11-26T16:15:10.580931",
     "status": "completed"
    },
    "tags": []
   },
   "outputs": [
    {
     "name": "stdout",
     "output_type": "stream",
     "text": [
      "Epoch 1/20\n"
     ]
    },
    {
     "name": "stderr",
     "output_type": "stream",
     "text": [
      "2022-08-05 15:07:46.419698: I tensorflow/core/grappler/optimizers/custom_graph_optimizer_registry.cc:113] Plugin optimizer for device_type GPU is enabled.\n",
      "2022-08-05 15:07:46.648357: I tensorflow/core/grappler/optimizers/custom_graph_optimizer_registry.cc:113] Plugin optimizer for device_type GPU is enabled.\n",
      "2022-08-05 15:07:46.884537: I tensorflow/core/grappler/optimizers/custom_graph_optimizer_registry.cc:113] Plugin optimizer for device_type GPU is enabled.\n",
      "2022-08-05 15:07:47.127807: I tensorflow/core/grappler/optimizers/custom_graph_optimizer_registry.cc:113] Plugin optimizer for device_type GPU is enabled.\n",
      "2022-08-05 15:07:47.605654: I tensorflow/core/grappler/optimizers/custom_graph_optimizer_registry.cc:113] Plugin optimizer for device_type GPU is enabled.\n"
     ]
    },
    {
     "name": "stdout",
     "output_type": "stream",
     "text": [
      "352/352 [==============================] - ETA: 0s - loss: 0.6491 - accuracy: 0.6243"
     ]
    },
    {
     "name": "stderr",
     "output_type": "stream",
     "text": [
      "2022-08-05 15:08:17.001706: I tensorflow/core/grappler/optimizers/custom_graph_optimizer_registry.cc:113] Plugin optimizer for device_type GPU is enabled.\n",
      "2022-08-05 15:08:17.077625: I tensorflow/core/grappler/optimizers/custom_graph_optimizer_registry.cc:113] Plugin optimizer for device_type GPU is enabled.\n",
      "2022-08-05 15:08:17.273634: I tensorflow/core/grappler/optimizers/custom_graph_optimizer_registry.cc:113] Plugin optimizer for device_type GPU is enabled.\n"
     ]
    },
    {
     "name": "stdout",
     "output_type": "stream",
     "text": [
      "352/352 [==============================] - 37s 98ms/step - loss: 0.6491 - accuracy: 0.6243 - val_loss: 0.4933 - val_accuracy: 0.6629\n",
      "Epoch 2/20\n",
      "352/352 [==============================] - 31s 87ms/step - loss: 0.4694 - accuracy: 0.7129 - val_loss: 0.4512 - val_accuracy: 0.7143\n",
      "Epoch 3/20\n",
      "352/352 [==============================] - 32s 90ms/step - loss: 0.4378 - accuracy: 0.7618 - val_loss: 0.4083 - val_accuracy: 0.7927\n",
      "Epoch 4/20\n",
      "352/352 [==============================] - 32s 91ms/step - loss: 0.4142 - accuracy: 0.7856 - val_loss: 0.3836 - val_accuracy: 0.8186\n",
      "Epoch 5/20\n",
      "352/352 [==============================] - 32s 92ms/step - loss: 0.3944 - accuracy: 0.8037 - val_loss: 0.3694 - val_accuracy: 0.8336\n",
      "Epoch 6/20\n",
      "352/352 [==============================] - 32s 90ms/step - loss: 0.4066 - accuracy: 0.7957 - val_loss: 0.3703 - val_accuracy: 0.8203\n",
      "Epoch 7/20\n",
      "352/352 [==============================] - 31s 89ms/step - loss: 0.3604 - accuracy: 0.8304 - val_loss: 0.3345 - val_accuracy: 0.8524\n",
      "Epoch 8/20\n",
      "352/352 [==============================] - 34s 96ms/step - loss: 0.3715 - accuracy: 0.8125 - val_loss: 0.3231 - val_accuracy: 0.8535\n",
      "Epoch 9/20\n",
      "352/352 [==============================] - 32s 91ms/step - loss: 0.3513 - accuracy: 0.8352 - val_loss: 0.3335 - val_accuracy: 0.8461\n",
      "Epoch 10/20\n",
      "352/352 [==============================] - 31s 89ms/step - loss: 0.3169 - accuracy: 0.8588 - val_loss: 0.3390 - val_accuracy: 0.8465\n",
      "Epoch 11/20\n",
      "352/352 [==============================] - 31s 87ms/step - loss: 0.3232 - accuracy: 0.8550 - val_loss: 0.3589 - val_accuracy: 0.8293\n",
      "Epoch 12/20\n",
      "352/352 [==============================] - 30s 85ms/step - loss: 0.4436 - accuracy: 0.7356 - val_loss: 0.3993 - val_accuracy: 0.8146\n",
      "Epoch 13/20\n",
      "352/352 [==============================] - 31s 89ms/step - loss: 0.3966 - accuracy: 0.8059 - val_loss: 0.3579 - val_accuracy: 0.8379\n",
      "469/469 [==============================] - 18s 37ms/step - loss: 0.3231 - accuracy: 0.8535\n",
      "Loss:\t\t 0.32314735651016235 \n",
      "Accuracy:\t 0.8535333275794983\n"
     ]
    }
   ],
   "source": [
    "earlystopping = callbacks.EarlyStopping(monitor =\"val_loss\", mode =\"min\", patience = 5, restore_best_weights = True) \n",
    "  \n",
    "history_callback = model.fit(train_x, train_y, batch_size = 128, epochs = 20, validation_data =(valid_x, valid_y), callbacks =[earlystopping]) \n",
    "\n",
    "loss_history = history_callback.history\n",
    "\n",
    "loss, acc = model.evaluate(valid_x, valid_y, verbose=1)\n",
    "print('Loss:\\t\\t', loss, '\\nAccuracy:\\t', acc)"
   ]
  },
  {
   "cell_type": "markdown",
   "metadata": {
    "papermill": {
     "duration": 0.789204,
     "end_time": "2020-11-26T16:17:27.471515",
     "exception": false,
     "start_time": "2020-11-26T16:17:26.682311",
     "status": "completed"
    },
    "tags": []
   },
   "source": [
    "# Printing metrics\n",
    "Prints the loss and accuracy values for both training and validation set for each epoch during training."
   ]
  },
  {
   "cell_type": "code",
   "execution_count": null,
   "metadata": {
    "papermill": {
     "duration": 0.804632,
     "end_time": "2020-11-26T16:17:29.086523",
     "exception": false,
     "start_time": "2020-11-26T16:17:28.281891",
     "status": "completed"
    },
    "tags": []
   },
   "outputs": [
    {
     "name": "stdout",
     "output_type": "stream",
     "text": [
      "Validation loss:\n",
      "\n",
      "[0.4700574278831482, 0.4641878008842468, 0.4615233540534973, 0.3943864405155182, 0.36348074674606323, 0.45264384150505066, 0.3628832995891571, 0.3902895450592041, 0.3363644480705261, 0.5575753450393677, 0.35546600818634033, 0.32191628217697144, 0.3116975426673889, 0.29423654079437256, 0.3101593852043152, 0.291271448135376, 0.2691100239753723, 0.26175805926322937, 0.25388067960739136, 0.25590038299560547]\n",
      "\n",
      "\n",
      "Validation accuracy:\n",
      "\n",
      "[0.6692000031471252, 0.6665999889373779, 0.7293333411216736, 0.7964000105857849, 0.8364666700363159, 0.6765333414077759, 0.8308666944503784, 0.8060666918754578, 0.8493333458900452, 0.7378000020980835, 0.8322666883468628, 0.8635333180427551, 0.8600000143051147, 0.8721333146095276, 0.8723333477973938, 0.8844666481018066, 0.8881333470344543, 0.8899333477020264, 0.8948667049407959, 0.8941333293914795]\n",
      "\n",
      "\n",
      "Training loss:\n",
      "\n",
      "[0.690728485584259, 0.47954124212265015, 0.46791723370552063, 0.4348618984222412, 0.3957420587539673, 0.4712510108947754, 0.3870306611061096, 0.3845648169517517, 0.35869666934013367, 0.32666414976119995, 0.32119813561439514, 0.31318795680999756, 0.30976101756095886, 0.2882224917411804, 0.27077725529670715, 0.255372017621994, 0.24733543395996094, 0.23212438821792603, 0.22090327739715576, 0.21391649544239044]\n",
      "\n",
      "\n",
      "Training accuracy:\n",
      "\n",
      "[0.5919111371040344, 0.7019555568695068, 0.7099111080169678, 0.7614444494247437, 0.8019999861717224, 0.7289333343505859, 0.8084222078323364, 0.8100000023841858, 0.8282222151756287, 0.8515777587890625, 0.8574666976928711, 0.8630889058113098, 0.8615555763244629, 0.8730000257492065, 0.885533332824707, 0.8947111368179321, 0.8992222547531128, 0.9067555665969849, 0.9112666845321655, 0.9151555895805359]\n",
      "\n",
      "\n"
     ]
    }
   ],
   "source": [
    "print(\"Validation loss:\\n\")\n",
    "print(str(loss_history[\"val_loss\"]) + \"\\n\\n\")\n",
    "print(\"Validation accuracy:\\n\")\n",
    "print(str(loss_history[\"val_accuracy\"]) + \"\\n\\n\")\n",
    "print(\"Training loss:\\n\")\n",
    "print(str(loss_history[\"loss\"]) + \"\\n\\n\")\n",
    "print(\"Training accuracy:\\n\")\n",
    "print(str(loss_history[\"accuracy\"]) + \"\\n\\n\")"
   ]
  },
  {
   "cell_type": "code",
   "execution_count": null,
   "metadata": {},
   "outputs": [],
   "source": [
    "# check if FE token and model token matched"
   ]
  },
  {
   "cell_type": "code",
   "execution_count": 542,
   "metadata": {},
   "outputs": [
    {
     "data": {
      "text/plain": [
       "'i my case i am having two form form 1 and form 2.\\r\\nform 1 having two buttons and form 2 is having one textbox.\\r\\non button 1 click event i am writing my text in my form 2 textbox and on button 2 i am showing form 2.\\r\\nwhat is happening is when i close my form 2 using close x button and reopen it value in my form 2 textbox disappears.\\r\\nplease help how can i resolve this,\\r\\n'"
      ]
     },
     "execution_count": 542,
     "metadata": {},
     "output_type": "execute_result"
    }
   ],
   "source": [
    "train[train['Y']=='LQ_EDIT'].iloc[2].Body"
   ]
  },
  {
   "cell_type": "code",
   "execution_count": 534,
   "metadata": {},
   "outputs": [
    {
     "data": {
      "text/plain": [
       "Id                                                       39040929\n",
       "Title                       how to make a textbox show me double?\n",
       "Body            i am trying to get myself used to c, currently...\n",
       "Tags                                           <c#><textbox><var>\n",
       "CreationDate                                  2016-08-19 13:58:31\n",
       "Y                                                         LQ_EDIT\n",
       "Name: 9498, dtype: object"
      ]
     },
     "execution_count": 534,
     "metadata": {},
     "output_type": "execute_result"
    }
   ],
   "source": [
    "train.iloc[9498]"
   ]
  },
  {
   "cell_type": "code",
   "execution_count": 535,
   "metadata": {},
   "outputs": [
    {
     "data": {
      "text/plain": [
       "'i am trying to get myself used to c, currently i am using sharpdevelop for that task, anyway, i have a simple question, lets say i want to have a textbox that shows me the outcome of a mathematical code as shown below, how do i get the textbox to actually show me types like double, int or other stuff it always tells me it cant convert double to string or whatever, i am pretty noob so yeah. \\r\\n\\t\\t\\r\\n\\r\\n    void cmdwriteclick(object sender, eventargs e)\\r\\n\\t   \\t\\r\\n\\t\\t\\tdouble var = 8.40\\r\\n\\t\\t\\tdouble start = 9.00\\r\\n\\t\\t\\tdouble end = var + start\\r\\n\\t\\t\\ttextboxend.text = end\\r\\n\\t\\t\\r\\n\\r\\ni already tried to not use the .text but something like .value but didnt work, any help \\r\\n\\r\\nthanks'"
      ]
     },
     "execution_count": 535,
     "metadata": {},
     "output_type": "execute_result"
    }
   ],
   "source": [
    "train.iloc[9498].Body"
   ]
  },
  {
   "cell_type": "code",
   "execution_count": 495,
   "metadata": {},
   "outputs": [
    {
     "data": {
      "text/plain": [
       "array([   0,    0,    0,    0,    0,    0,    0,    0,    0,    0,    0,\n",
       "          0,    0,    0,    0,    0,    0,    0,    0,    0,    0,    0,\n",
       "          0,    0,    0,    0,    0,    0,    0,    0,    0,    0,    0,\n",
       "          0,    0,    0,    0,    0,    0,    0,    0,    0,    0,    0,\n",
       "          0,    0,    0,    0,    0,    0,    0,    0,    0,    0,    0,\n",
       "          0,    0,    0,    0,    0,    0,    0,    0,    0,    0,    0,\n",
       "          0,    0,    0,  400,   30,   22,  525,    5,   99,  646,    8,\n",
       "          5, 1345,  297,   54,    1, 4020,   14,  119,  217, 1466,   15,\n",
       "       4607,  250,    3,    5, 3152,  198, 2255,    1, 1732,  467,   14,\n",
       "          1, 1345,  346, 1233,    5, 2383,   14,  502,  228,    1,  198,\n",
       "         19,  805,    8,    1,  109,   30,    1, 2168,   63,    2,   93,\n",
       "          3,   65,  341,    3,   47, 2445,   14,   19, 1165,    4, 3670,\n",
       "        217, 1294,   15,  373,    2,  221,  122,   75,  253,    6,   31,\n",
       "         22,  525,   75,  362,    3,   11,    4], dtype=int32)"
      ]
     },
     "execution_count": 495,
     "metadata": {},
     "output_type": "execute_result"
    }
   ],
   "source": [
    "train_x[802]"
   ]
  },
  {
   "cell_type": "code",
   "execution_count": 536,
   "metadata": {},
   "outputs": [
    {
     "data": {
      "text/plain": [
       "array([[1.9477760e-05, 9.9997973e-01, 7.6478915e-07]], dtype=float32)"
      ]
     },
     "execution_count": 536,
     "metadata": {},
     "output_type": "execute_result"
    }
   ],
   "source": [
    "result=model.predict([train_x[9498].tolist()])\n",
    "result"
   ]
  },
  {
   "cell_type": "code",
   "execution_count": 537,
   "metadata": {},
   "outputs": [
    {
     "data": {
      "text/plain": [
       "1"
      ]
     },
     "execution_count": 537,
     "metadata": {},
     "output_type": "execute_result"
    }
   ],
   "source": [
    "np.argmax(result)"
   ]
  },
  {
   "cell_type": "code",
   "execution_count": null,
   "metadata": {},
   "outputs": [],
   "source": []
  }
 ],
 "metadata": {
  "kernelspec": {
   "display_name": "Python 3 (ipykernel)",
   "language": "python",
   "name": "python3"
  },
  "language_info": {
   "codemirror_mode": {
    "name": "ipython",
    "version": 3
   },
   "file_extension": ".py",
   "mimetype": "text/x-python",
   "name": "python",
   "nbconvert_exporter": "python",
   "pygments_lexer": "ipython3",
   "version": "3.9.12"
  },
  "papermill": {
   "duration": 179.180717,
   "end_time": "2020-11-26T16:17:31.460699",
   "environment_variables": {},
   "exception": null,
   "input_path": "__notebook__.ipynb",
   "output_path": "__notebook__.ipynb",
   "parameters": {},
   "start_time": "2020-11-26T16:14:32.279982",
   "version": "2.1.0"
  }
 },
 "nbformat": 4,
 "nbformat_minor": 4
}
